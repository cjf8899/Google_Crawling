{
 "cells": [
  {
   "cell_type": "code",
   "execution_count": null,
   "metadata": {},
   "outputs": [],
   "source": [
    "from selenium import webdriver\n",
    "import os\n",
    "import urllib.request"
   ]
  },
  {
   "cell_type": "code",
   "execution_count": null,
   "metadata": {},
   "outputs": [],
   "source": [
    "options = webdriver.ChromeOptions()\n",
    "options.add_argument('headless')\n",
    "options.add_argument('window-size=1920x1080')\n",
    "options.add_argument(\"disable-gpu\")"
   ]
  },
  {
   "cell_type": "code",
   "execution_count": null,
   "metadata": {},
   "outputs": [],
   "source": [
    "name_count = 0\n",
    "\n",
    "class crawling:\n",
    "    \n",
    "    def __init__(self,file_name,search,count):\n",
    "        self.driver = webdriver.Chrome('C:\\\\Users\\\\chromedriver',chrome_options=options)\n",
    "        self.driver.implicitly_wait(3000)\n",
    "        self.file_name = file_name\n",
    "        self.search = search\n",
    "        self.count = count\n",
    "        \n",
    "    def file(self):\n",
    "        \n",
    "        os.mkdir(\"C:\\\\\" + str(self.file_name))\n",
    "        print(\"저장경로: C:\\\\\" + str(self.file_name))\n",
    "        \n",
    "    def download(self):\n",
    "        \n",
    "        global name_count\n",
    "        \n",
    "        for i in range(100):\n",
    "            self.driver.execute_script(\"window.scrollBy(0,10000)\")\n",
    "            \n",
    "        for x in self.search:\n",
    "            \n",
    "            page = 'https://www.google.com/search?q=' + str(x) + \"&source=lnms&tbm=isch&sa=X&ved=0ahUKEwjY1sbd7szjAhUCxYsBHRQ5BeAQ_AUIESgB&biw=1536&bih=754\"\n",
    "            self.driver.implicitly_wait(3000)\n",
    "            self.driver.get(page)\n",
    "            img = self.driver.find_elements_by_class_name(\"rg_ic\")\n",
    "            \n",
    "            for y in range(self.count):\n",
    "                img[y].screenshot(\"C:\\\\\" + str(self.file_name) + \"\\\\\"+ str(name_count) + \".png\")\n",
    "                name_count += 1\n",
    "            \n",
    "        \n",
    "        self.driver.close()"
   ]
  },
  {
   "cell_type": "code",
   "execution_count": null,
   "metadata": {},
   "outputs": [],
   "source": [
    "ppp=crawling(\"imgfile\",[\"이상한패션\"], 100)"
   ]
  },
  {
   "cell_type": "code",
   "execution_count": null,
   "metadata": {},
   "outputs": [],
   "source": [
    "ppp.file()"
   ]
  },
  {
   "cell_type": "code",
   "execution_count": null,
   "metadata": {},
   "outputs": [],
   "source": [
    "ppp.download()"
   ]
  }
 ],
 "metadata": {
  "kernelspec": {
   "display_name": "Python 3",
   "language": "python",
   "name": "python3"
  },
  "language_info": {
   "codemirror_mode": {
    "name": "ipython",
    "version": 3
   },
   "file_extension": ".py",
   "mimetype": "text/x-python",
   "name": "python",
   "nbconvert_exporter": "python",
   "pygments_lexer": "ipython3",
   "version": "3.7.3"
  }
 },
 "nbformat": 4,
 "nbformat_minor": 2
}
